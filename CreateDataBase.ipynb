{
 "cells": [
  {
   "cell_type": "markdown",
   "metadata": {},
   "source": [
    "# Create a SQLite DataBase \n"
   ]
  },
  {
   "cell_type": "code",
   "execution_count": 5,
   "metadata": {},
   "outputs": [
    {
     "name": "stdout",
     "output_type": "stream",
     "text": [
      "Deleted existing database at Outputs/fire_data.sqlite\n",
      "Database setup complete.\n"
     ]
    }
   ],
   "source": [
    "import sqlite3\n",
    "import pandas as pd\n",
    "import os\n",
    "\n",
    "# Path to the SQLite database\n",
    "db_path = 'Outputs/fire_data.sqlite'\n",
    "\n",
    "# Delete the database if it already exists\n",
    "if os.path.exists(db_path):\n",
    "    os.remove(db_path)\n",
    "    print(f\"Deleted existing database at {db_path}\")\n",
    "\n",
    "# Paths to the CSV files\n",
    "counties_csv_path = 'Resources/california_counties_forDB_modified.csv'\n",
    "extracted_data_csv_path = 'Outputs/extracted_data_modified_cleaned_corrected.csv'  \n",
    "fires_cleaned_csv_path = 'Outputs/fire_stats_year_county.csv'\n",
    "\n",
    "# Load the CSV files\n",
    "counties_df = pd.read_csv(counties_csv_path)\n",
    "extracted_data_df = pd.read_csv(extracted_data_csv_path)\n",
    "fires_cleaned_df = pd.read_csv(fires_cleaned_csv_path)\n",
    "\n",
    "# Create SQLite database connection (this will create a new database file)\n",
    "conn = sqlite3.connect(db_path)\n",
    "\n",
    "# Save the dataframes to the database\n",
    "counties_df.to_sql('california_counties', conn, if_exists='replace', index=False,\n",
    "                   dtype={\n",
    "                       'County': 'TEXT',\n",
    "                       'Abbreviation': 'TEXT',\n",
    "                       'county_up': 'TEXT'\n",
    "                   })\n",
    "\n",
    "extracted_data_df.to_sql('extracted_data', conn, if_exists='replace', index=False,\n",
    "                         dtype={\n",
    "                             'County': 'TEXT',\n",
    "                             'Tot_Damage': 'REAL',\n",
    "                             'Year': 'INTEGER',\n",
    "                             'county_up': 'TEXT'\n",
    "                         })\n",
    "\n",
    "fires_cleaned_df.to_sql('fire_stats_year_county', conn, if_exists='replace', index=False,\n",
    "                        dtype={\n",
    "                            'County': 'TEXT',\n",
    "                            'Fire Name': 'TEXT',\n",
    "                            'Start': 'TEXT',\n",
    "                            'Contained': 'TEXT',\n",
    "                            'Acres': 'REAL',\n",
    "                            'Deaths_FF': 'INTEGER',\n",
    "                            'Deaths_Civil': 'INTEGER',\n",
    "                            'Duration': 'REAL',\n",
    "                            'Strux_Destr': 'INTEGER',\n",
    "                            'Strux_Dmgd': 'INTEGER',\n",
    "                            'Year': 'INTEGER'\n",
    "                        })\n",
    "\n",
    "# Drop the 'combined_data' table if it exists\n",
    "conn.execute(\"DROP TABLE IF EXISTS combined_data;\")\n",
    "\n",
    "# Link the data using the 'County' field and 'county_up'\n",
    "query = \"\"\"\n",
    "    CREATE TABLE combined_data AS\n",
    "    SELECT *\n",
    "    FROM fire_stats_year_county f\n",
    "    JOIN california_counties c ON f.County = c.county_up\n",
    "    JOIN extracted_data e ON f.County = e.county_up AND f.Year = e.Year;\n",
    "\"\"\"\n",
    "\n",
    "conn.execute(query)\n",
    "\n",
    "# Commit the changes and close the connection\n",
    "conn.commit()\n",
    "conn.close()\n",
    "\n",
    "print(\"Database setup complete.\")\n"
   ]
  },
  {
   "cell_type": "code",
   "execution_count": 7,
   "metadata": {},
   "outputs": [
    {
     "data": {
      "text/plain": [
       "(     County            Fire Name       Start   Contained     Acres  Deaths_FF  \\\n",
       " 0  SISKIYOU           KNF BEAVER  2014-07-30  2014-08-30   32496.0          0   \n",
       " 1  SISKIYOU          LITTLE DEER  2014-07-31  2014-08-11    5503.0          0   \n",
       " 2  SISKIYOU         JULY COMPLEX  2014-08-03  2014-09-25   50042.0          0   \n",
       " 3  SISKIYOU  HAPPY CAMP\\nCOMPLEX  2014-08-14  2014-10-31  134056.0          0   \n",
       " \n",
       "    Deaths_Civil  Duration  Strux_Destr  Strux_Dmgd  Year  \n",
       " 0             0      32.0            6           0  2014  \n",
       " 1             0      12.0            1           0  2014  \n",
       " 2             0      54.0            2           0  2014  \n",
       " 3             0      79.0            6           2  2014  ,\n",
       "    Total_Damage\n",
       " 0           0.0)"
      ]
     },
     "execution_count": 7,
     "metadata": {},
     "output_type": "execute_result"
    }
   ],
   "source": [
    "# Reopen the SQLite connection\n",
    "conn = sqlite3.connect('Outputs/fire_data.sqlite')\n",
    "\n",
    "# Query to find all unique fires in SISKIYOU in 2014 and include fire stats\n",
    "query_siskiyou_fires = \"\"\"\n",
    "    SELECT DISTINCT f.County, f.\"Fire Name\", f.Start, f.Contained, f.Acres, f.Deaths_FF, \n",
    "                    f.Deaths_Civil, f.Duration, f.Strux_Destr, f.Strux_Dmgd, f.Year\n",
    "    FROM fire_stats_year_county f\n",
    "    JOIN extracted_data e ON f.County = e.county_up AND f.Year = e.Year\n",
    "    WHERE f.County = 'SISKIYOU' AND f.Year = 2014;\n",
    "\"\"\"\n",
    "\n",
    "# Execute the query and fetch the results\n",
    "result_siskiyou_fires = pd.read_sql_query(query_siskiyou_fires, conn)\n",
    "\n",
    "# Query to get the total damage for SISKIYOU in 2014\n",
    "query_siskiyou_damage = \"\"\"\n",
    "    SELECT SUM(e.Tot_Damage) AS Total_Damage\n",
    "    FROM extracted_data e\n",
    "    WHERE e.county_up = 'SISKIYOU' AND e.Year = 2014;\n",
    "\"\"\"\n",
    "\n",
    "# Execute the query and fetch the total damage\n",
    "result_siskiyou_damage = pd.read_sql_query(query_siskiyou_damage, conn)\n",
    "\n",
    "# Closing the connection\n",
    "conn.close()\n",
    "\n",
    "# Display the results\n",
    "result_siskiyou_fires, result_siskiyou_damage\n"
   ]
  }
 ],
 "metadata": {
  "kernelspec": {
   "display_name": "boot_camp2",
   "language": "python",
   "name": "python3"
  },
  "language_info": {
   "codemirror_mode": {
    "name": "ipython",
    "version": 3
   },
   "file_extension": ".py",
   "mimetype": "text/x-python",
   "name": "python",
   "nbconvert_exporter": "python",
   "pygments_lexer": "ipython3",
   "version": "3.12.5"
  }
 },
 "nbformat": 4,
 "nbformat_minor": 2
}
