{
 "cells": [
  {
   "cell_type": "markdown",
   "metadata": {},
   "source": [
    "# Create a SQLite DataBase \n"
   ]
  },
  {
   "cell_type": "code",
   "execution_count": 8,
   "metadata": {},
   "outputs": [
    {
     "name": "stdout",
     "output_type": "stream",
     "text": [
      "Deleted existing database at MapVisualizations/DB/fire_data.sqlite\n",
      "Database setup complete.\n"
     ]
    }
   ],
   "source": [
    "import sqlite3\n",
    "import pandas as pd\n",
    "import os\n",
    "\n",
    "# Path to the SQLite database\n",
    "db_path = 'MapVisualizations/DB/fire_data.sqlite'\n",
    "\n",
    "# Delete the database if it already exists\n",
    "if os.path.exists(db_path):\n",
    "    os.remove(db_path)\n",
    "    print(f\"Deleted existing database at {db_path}\")\n",
    "\n",
    "# Paths to the CSV files\n",
    "counties_csv_path = 'Resources/california_counties_forDB_modified.csv'\n",
    "extracted_data_csv_path = 'Outputs/extracted_data_modified_cleaned_corrected.csv'  \n",
    "fires_cleaned_csv_path = 'Outputs/fire_stats_year_county.csv'\n",
    "\n",
    "# Load the CSV files\n",
    "counties_df = pd.read_csv(counties_csv_path)\n",
    "extracted_data_df = pd.read_csv(extracted_data_csv_path)\n",
    "fires_cleaned_df = pd.read_csv(fires_cleaned_csv_path)\n",
    "\n",
    "# Create SQLite database connection (this will create a new database file)\n",
    "conn = sqlite3.connect(db_path)\n",
    "\n",
    "# Save the dataframes to the database\n",
    "counties_df.to_sql('california_counties', conn, if_exists='replace', index=False,\n",
    "                   dtype={\n",
    "                       'County': 'TEXT',\n",
    "                       'Abbreviation': 'TEXT',\n",
    "                       'county_up': 'TEXT'\n",
    "                   })\n",
    "\n",
    "extracted_data_df.to_sql('extracted_data', conn, if_exists='replace', index=False,\n",
    "                         dtype={\n",
    "                             'County': 'TEXT',\n",
    "                             'Tot_Damage': 'REAL',\n",
    "                             'Year': 'INTEGER',\n",
    "                             'county_up': 'TEXT'\n",
    "                         })\n",
    "\n",
    "fires_cleaned_df.to_sql('fire_stats_year_county', conn, if_exists='replace', index=False,\n",
    "                        dtype={\n",
    "                            'County': 'TEXT',\n",
    "                            'Fire Name': 'TEXT',\n",
    "                            'Start': 'TEXT',\n",
    "                            'Contained': 'TEXT',\n",
    "                            'Acres': 'REAL',\n",
    "                            'Deaths_FF': 'INTEGER',\n",
    "                            'Deaths_Civil': 'INTEGER',\n",
    "                            'Duration': 'REAL',\n",
    "                            'Strux_Destr': 'INTEGER',\n",
    "                            'Strux_Dmgd': 'INTEGER',\n",
    "                            'Year': 'INTEGER'\n",
    "                        })\n",
    "\n",
    "# Drop the 'combined_data' table if it exists\n",
    "conn.execute(\"DROP TABLE IF EXISTS combined_data;\")\n",
    "\n",
    "# Link the data using the 'County' field and 'county_up'\n",
    "query = \"\"\"\n",
    "    CREATE TABLE combined_data AS\n",
    "    SELECT *\n",
    "    FROM fire_stats_year_county f\n",
    "    JOIN california_counties c ON f.County = c.county_up\n",
    "    JOIN extracted_data e ON f.County = e.county_up AND f.Year = e.Year;\n",
    "\"\"\"\n",
    "\n",
    "conn.execute(query)\n",
    "\n",
    "# Commit the changes and close the connection\n",
    "conn.commit()\n",
    "conn.close()\n",
    "\n",
    "print(\"Database setup complete.\")\n"
   ]
  },
  {
   "cell_type": "code",
   "execution_count": 14,
   "metadata": {},
   "outputs": [
    {
     "data": {
      "text/plain": [
       "(Empty DataFrame\n",
       " Columns: [County, Fire Name, Start, Contained, Acres, Deaths_FF, Deaths_Civil, Duration, Strux_Destr, Strux_Dmgd, Year]\n",
       " Index: [],\n",
       "    Total_Damage\n",
       " 0       16406.0)"
      ]
     },
     "execution_count": 14,
     "metadata": {},
     "output_type": "execute_result"
    }
   ],
   "source": [
    "# Reopen the SQLite connection\n",
    "conn = sqlite3.connect('MapVisualizations/DB/fire_data.sqlite')\n",
    "\n",
    "# Query to find all unique fires in SISKIYOU in 2014 and include fire stats\n",
    "query_siskiyou_fires = \"\"\"\n",
    "    SELECT DISTINCT f.County, f.\"Fire Name\", f.Start, f.Contained, f.Acres, f.Deaths_FF, \n",
    "                    f.Deaths_Civil, f.Duration, f.Strux_Destr, f.Strux_Dmgd, f.Year\n",
    "    FROM fire_stats_year_county f\n",
    "    JOIN extracted_data e ON f.County = e.county_up AND f.Year = e.Year\n",
    "    WHERE f.County = 'SANTA CRUZ' AND f.Year = 2019;\n",
    "\"\"\"\n",
    "\n",
    "# Execute the query and fetch the results\n",
    "result_siskiyou_fires = pd.read_sql_query(query_siskiyou_fires, conn)\n",
    "\n",
    "# Query to get the total damage for SISKIYOU in 2014\n",
    "query_siskiyou_damage = \"\"\"\n",
    "    SELECT SUM(e.Tot_Damage) AS Total_Damage\n",
    "    FROM extracted_data e\n",
    "    WHERE e.county_up = 'SANTA CRUZ' AND e.Year = 2019;\n",
    "\"\"\"\n",
    "\n",
    "# Execute the query and fetch the total damage\n",
    "result_siskiyou_damage = pd.read_sql_query(query_siskiyou_damage, conn)\n",
    "\n",
    "# Closing the connection\n",
    "conn.close()\n",
    "\n",
    "# Display the results\n",
    "result_siskiyou_fires, result_siskiyou_damage\n"
   ]
  },
  {
   "cell_type": "code",
   "execution_count": 13,
   "metadata": {},
   "outputs": [
    {
     "name": "stdout",
     "output_type": "stream",
     "text": [
      "Tables in the database:\n",
      "california_counties\n",
      "extracted_data\n",
      "fire_stats_year_county\n",
      "combined_data\n"
     ]
    }
   ],
   "source": [
    "# Reopen the SQLite connection\n",
    "conn = sqlite3.connect('MapVisualizations/DB/fire_data.sqlite')\n",
    "\n",
    "# Query to get the list of tables in the database\n",
    "query = \"SELECT name FROM sqlite_master WHERE type='table';\"\n",
    "tables = conn.execute(query).fetchall()\n",
    "\n",
    "# Print the list of tables\n",
    "print(\"Tables in the database:\")\n",
    "for table in tables:\n",
    "    print(table[0])\n",
    "\n",
    "# Close the connection\n",
    "conn.close()"
   ]
  }
 ],
 "metadata": {
  "kernelspec": {
   "display_name": "boot_camp2",
   "language": "python",
   "name": "python3"
  },
  "language_info": {
   "codemirror_mode": {
    "name": "ipython",
    "version": 3
   },
   "file_extension": ".py",
   "mimetype": "text/x-python",
   "name": "python",
   "nbconvert_exporter": "python",
   "pygments_lexer": "ipython3",
   "version": "3.12.5"
  }
 },
 "nbformat": 4,
 "nbformat_minor": 2
}
