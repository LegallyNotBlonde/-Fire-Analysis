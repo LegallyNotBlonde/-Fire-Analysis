{
 "cells": [
  {
   "cell_type": "code",
   "execution_count": 1,
   "metadata": {},
   "outputs": [],
   "source": [
    "import pandas as pd"
   ]
  },
  {
   "cell_type": "code",
   "execution_count": 2,
   "metadata": {},
   "outputs": [],
   "source": [
    "# Load the cleaned data\n",
    "file_path = 'Outputs/fires_2015_2019_cleaned.csv'\n",
    "data = pd.read_csv(file_path)"
   ]
  },
  {
   "cell_type": "code",
   "execution_count": 3,
   "metadata": {},
   "outputs": [],
   "source": [
    "# Remove commas and convert to numeric\n",
    "data['Acres'] = data['Acres'].str.replace(',', '').astype(float)"
   ]
  },
  {
   "cell_type": "code",
   "execution_count": 4,
   "metadata": {},
   "outputs": [],
   "source": [
    "## Convert 'Start' and 'Contained\" to datetime format to avoid errors\n",
    "data['Start'] = pd.to_datetime(data['Start'], errors='coerce')\n",
    "data['Contained'] = pd.to_datetime(data['Contained'], errors='coerce')"
   ]
  },
  {
   "cell_type": "code",
   "execution_count": 5,
   "metadata": {},
   "outputs": [
    {
     "name": "stdout",
     "output_type": "stream",
     "text": [
      "       Start  Contained  Year  Month\n",
      "0 2015-02-06 2015-02-10  2015      2\n",
      "1 2015-02-06 2015-02-13  2015      2\n",
      "2 2015-04-18 2015-04-24  2015      4\n"
     ]
    }
   ],
   "source": [
    "# Create a new column for the 'Year' and 'Month'\n",
    "data['Year'] = data['Start'].dt.year\n",
    "data['Month'] = data['Start'].dt.month\n",
    "# Print data 3 first lines to verify correctness\n",
    "print(data[['Start', 'Contained', 'Year', 'Month']].head(3))"
   ]
  },
  {
   "cell_type": "code",
   "execution_count": 7,
   "metadata": {},
   "outputs": [
    {
     "name": "stdout",
     "output_type": "stream",
     "text": [
      "         Start  Contained              Duration_Per_Month\n",
      "0   2015-02-06 2015-02-10                  {'2015-02': 5}\n",
      "1   2015-02-06 2015-02-13                  {'2015-02': 8}\n",
      "2   2015-04-18 2015-04-24                  {'2015-04': 7}\n",
      "3   2015-04-28 2015-04-29                  {'2015-04': 2}\n",
      "4   2015-04-28 2015-04-29                  {'2015-04': 2}\n",
      "..         ...        ...                             ...\n",
      "383 2019-10-31 2019-11-03  {'2019-10': 1, '2019-11': -27}\n",
      "384 2019-10-31 2019-11-06  {'2019-10': 1, '2019-11': -24}\n",
      "385 2019-11-03 2019-11-06                  {'2019-11': 4}\n",
      "386 2019-11-25 2019-11-25                  {'2019-11': 1}\n",
      "387 2019-11-25 2019-12-13  {'2019-11': 6, '2019-12': -18}\n",
      "\n",
      "[388 rows x 3 columns]\n"
     ]
    }
   ],
   "source": [
    "def calculate_duration(row):\n",
    "    # Initialize a dictionary to hold the duration for each month\n",
    "    duration_per_month = {}\n",
    "\n",
    "    start_date = row['Start']\n",
    "    end_date = row['Contained']\n",
    "    \n",
    "    # Calculate duration for the first month\n",
    "    end_of_start_month = start_date + pd.offsets.MonthEnd(0)\n",
    "    first_month_duration = (end_of_start_month - start_date).days + 1\n",
    "\n",
    "    # Assign the duration to the start month\n",
    "    duration_per_month[f'{start_date.year}-{start_date.month:02d}'] = first_month_duration\n",
    "\n",
    "    # If 'Contained' is in the same month as 'Start'\n",
    "    if start_date.month == end_date.month and start_date.year == end_date.year:\n",
    "        duration_per_month[f'{start_date.year}-{start_date.month:02d}'] = (end_date - start_date).days + 1\n",
    "    else:\n",
    "        # Handle months between 'Start' and 'Contained'\n",
    "        current_month = start_date + pd.offsets.MonthBegin(1)\n",
    "        while current_month < end_date:\n",
    "            # Full month duration\n",
    "            days_in_month = current_month + pd.offsets.MonthEnd(0)\n",
    "            duration_per_month[f'{current_month.year}-{current_month.month:02d}'] = (days_in_month - current_month).days + 1\n",
    "            current_month = current_month + pd.offsets.MonthBegin(1)\n",
    "\n",
    "        # Calculate duration for the last month\n",
    "        last_month_duration = (end_date - (end_date - pd.offsets.MonthBegin(0))).days + 1\n",
    "        duration_per_month[f'{end_date.year}-{end_date.month:02d}'] = last_month_duration\n",
    "\n",
    "    return duration_per_month\n",
    "\n",
    "# Apply the function to calculate the duration per month for each row\n",
    "data['Duration_Per_Month'] = data.apply(calculate_duration, axis=1)\n",
    "\n",
    "# Display the result to check\n",
    "print(data[['Start', 'Contained', 'Duration_Per_Month']])"
   ]
  },
  {
   "cell_type": "code",
   "execution_count": 8,
   "metadata": {},
   "outputs": [
    {
     "name": "stdout",
     "output_type": "stream",
     "text": [
      "Rows with duration in any month more or equal to 30 days:\n",
      "         Start  Contained                                 Duration_Per_Month\n",
      "18  2015-07-19 2015-09-05     {'2015-07': 13, '2015-08': 31, '2015-09': -25}\n",
      "29  2015-07-30 2015-09-03      {'2015-07': 2, '2015-08': 31, '2015-09': -27}\n",
      "30  2015-07-30 2015-10-15  {'2015-07': 2, '2015-08': 31, '2015-09': 30, '...\n",
      "32  2015-07-31 2015-10-15  {'2015-07': 1, '2015-08': 31, '2015-09': 30, '...\n",
      "33  2015-07-31 2015-12-01  {'2015-07': 1, '2015-08': 31, '2015-09': 30, '...\n",
      "34  2015-08-01 2015-09-30                      {'2015-08': 31, '2015-09': 0}\n",
      "35  2015-08-01 2015-10-01       {'2015-08': 31, '2015-09': 30, '2015-10': 1}\n",
      "63  2016-06-07 2016-10-02  {'2016-06': 24, '2016-07': 31, '2016-08': 31, ...\n",
      "71  2016-06-26 2016-10-31  {'2016-06': 5, '2016-07': 31, '2016-08': 31, '...\n",
      "73  2016-06-28 2016-08-14      {'2016-06': 3, '2016-07': 31, '2016-08': -17}\n",
      "85  2016-07-22 2016-10-13  {'2016-07': 10, '2016-08': 31, '2016-09': 30, ...\n",
      "119 2016-09-26 2016-11-08      {'2016-09': 5, '2016-10': 31, '2016-11': -22}\n",
      "142 2017-06-24 2017-08-05      {'2017-06': 7, '2017-07': 31, '2017-08': -26}\n",
      "158 2017-07-08 2017-10-05  {'2017-07': 24, '2017-08': 31, '2017-09': 30, ...\n",
      "173 2017-07-25 2017-10-12  {'2017-07': 7, '2017-08': 31, '2017-09': 30, '...\n",
      "181 2017-07-31 2017-11-30  {'2017-07': 1, '2017-08': 31, '2017-09': 30, '...\n",
      "182 2017-08-01 2017-10-31       {'2017-08': 31, '2017-09': 30, '2017-10': 0}\n",
      "190 2017-08-07 2017-10-15     {'2017-08': 25, '2017-09': 30, '2017-10': -16}\n",
      "194 2017-08-13 2017-10-20     {'2017-08': 19, '2017-09': 30, '2017-10': -11}\n",
      "195 2017-08-13 2017-11-30  {'2017-08': 19, '2017-09': 30, '2017-10': 31, ...\n",
      "197 2017-08-14 2017-11-30  {'2017-08': 18, '2017-09': 30, '2017-10': 31, ...\n",
      "198 2017-08-15 2017-10-10     {'2017-08': 17, '2017-09': 30, '2017-10': -21}\n",
      "206 2017-08-29 2017-10-28       {'2017-08': 3, '2017-09': 30, '2017-10': -3}\n",
      "209 2017-08-30 2017-10-19      {'2017-08': 2, '2017-09': 30, '2017-10': -12}\n",
      "215 2017-09-03 2017-11-20     {'2017-09': 28, '2017-10': 31, '2017-11': -10}\n",
      "219 2017-09-12 2017-11-05     {'2017-09': 19, '2017-10': 31, '2017-11': -25}\n",
      "221 2017-09-24 2017-11-27       {'2017-09': 7, '2017-10': 31, '2017-11': -3}\n",
      "286 2018-07-23 2018-09-01        {'2018-07': 9, '2018-08': 31, '2018-09': 1}\n",
      "291 2018-07-27 2018-09-27       {'2018-07': 5, '2018-08': 31, '2018-09': -3}\n",
      "297 2018-08-01 2018-10-31       {'2018-08': 31, '2018-09': 30, '2018-10': 0}\n",
      "319 2018-10-04 2018-12-22      {'2018-10': 28, '2018-11': 30, '2018-12': -9}\n",
      "322 2018-10-13 2018-12-22      {'2018-10': 19, '2018-11': 30, '2018-12': -9}\n",
      "329 2019-05-23 2019-09-11  {'2019-05': 9, '2019-06': 30, '2019-07': 31, '...\n",
      "334 2019-06-08 2020-06-15  {'2019-06': 23, '2019-07': 31, '2019-08': 31, ...\n",
      "342 2019-07-25 2019-10-11  {'2019-07': 7, '2019-08': 31, '2019-09': 30, '...\n",
      "343 2019-07-26 2019-10-01  {'2019-07': 6, '2019-08': 31, '2019-09': 30, '...\n",
      "360 2019-09-04 2019-11-21      {'2019-09': 27, '2019-10': 31, '2019-11': -9}\n",
      "365 2019-09-05 2019-11-27      {'2019-09': 26, '2019-10': 31, '2019-11': -3}\n"
     ]
    }
   ],
   "source": [
    "# Function to identify rows where any month has a duration greater than or equal to 30 days\n",
    "# to ensure it is assigned to the correct month\n",
    "def has_long_duration(duration_dict):\n",
    "    return any(duration >= 30 for duration in duration_dict.values())\n",
    "\n",
    "# Apply the function to create a boolean mask\n",
    "long_duration_mask = data['Duration_Per_Month'].apply(has_long_duration)\n",
    "\n",
    "# Filter the rows based on the mask\n",
    "long_durations = data[long_duration_mask]\n",
    "\n",
    "# Display the results\n",
    "if not long_durations.empty:\n",
    "    print(\"Rows with duration in any month more or equal to 30 days:\")\n",
    "    print(long_durations[['Start', 'Contained', 'Duration_Per_Month']])\n",
    "else:\n",
    "    print(\"No durations found that exceed 30 days in any month.\")"
   ]
  },
  {
   "cell_type": "code",
   "execution_count": 9,
   "metadata": {},
   "outputs": [
    {
     "name": "stdout",
     "output_type": "stream",
     "text": [
      "     Duration_Per_Month  Total Deaths\n",
      "0                     0             0\n",
      "1                     0             0\n",
      "2                     0             0\n",
      "3                     0             0\n",
      "4                     0             0\n",
      "..                  ...           ...\n",
      "383                   0             0\n",
      "384                   0             0\n",
      "385                   0             0\n",
      "386                   0             0\n",
      "387                   0             0\n",
      "\n",
      "[388 rows x 2 columns]\n"
     ]
    }
   ],
   "source": [
    "# Convert to numeric in case there are any non-numeric values in the new columns\n",
    "data['Deaths_FF'] = pd.to_numeric(data['Deaths_FF'], errors='coerce')\n",
    "data['Deaths_Civil'] = pd.to_numeric(data['Deaths_Civil'], errors='coerce')\n",
    "data['Duration_Per_Month'] = pd.to_numeric(data['Duration_Per_Month'], errors='coerce')\n",
    "\n",
    "#Drop Nan values and converting them to integers in 'Duration_Per_Month' column\n",
    "data['Duration_Per_Month'] = pd.to_numeric(data['Duration_Per_Month'], errors='coerce').fillna(0).astype(int)\n",
    "\n",
    "\n",
    "# Now calculate total deaths\n",
    "data['Total Deaths'] = data['Deaths_FF'] + data['Deaths_Civil']\n",
    "print(data[['Duration_Per_Month', 'Total Deaths']])"
   ]
  },
  {
   "cell_type": "code",
   "execution_count": 10,
   "metadata": {},
   "outputs": [
    {
     "name": "stdout",
     "output_type": "stream",
     "text": [
      "   Year  total_fires  total_acres  average_duration  total_deaths\n",
      "0  2015           55     773415.0               0.0             7\n",
      "1  2016           70     546828.0               0.0             8\n",
      "2  2017          124    1417659.0               0.0            47\n"
     ]
    }
   ],
   "source": [
    "# Calculate the statistics for each year\n",
    "yearly_stats = data.groupby('Year').agg(\n",
    "    total_fires=('Fire Name', 'count'),\n",
    "    total_acres=('Acres', 'sum'),\n",
    "    average_duration=('Duration_Per_Month', 'mean'),\n",
    "    total_deaths=('Total Deaths', 'sum')\n",
    ").reset_index()\n",
    "print(yearly_stats.head(3))"
   ]
  },
  {
   "cell_type": "code",
   "execution_count": 11,
   "metadata": {},
   "outputs": [
    {
     "name": "stdout",
     "output_type": "stream",
     "text": [
      "Index(['County', 'Fire Name', 'Start', 'Contained', 'Acres', 'Strux_Destr',\n",
      "       'Strux_Dmgd', 'Deaths_FF', 'Deaths_Civil', 'Duration', 'Year', 'Month',\n",
      "       'Duration_Per_Month', 'Total Deaths'],\n",
      "      dtype='object')\n"
     ]
    }
   ],
   "source": [
    "# Display columns in my data\n",
    "print(data.columns)"
   ]
  },
  {
   "cell_type": "code",
   "execution_count": 12,
   "metadata": {},
   "outputs": [
    {
     "name": "stdout",
     "output_type": "stream",
     "text": [
      "   Year  Month  total_fires  total_acres  avg_duration  total_deaths\n",
      "0  2015      2            2       7509.0           0.0             0\n",
      "1  2015      4            4       7874.0           0.0             0\n",
      "2  2015      5            1        692.0           0.0             0\n"
     ]
    }
   ],
   "source": [
    "# Calculate statistics by Month of each Year\n",
    "monthly_stats = data.groupby(['Year', 'Month']).agg(\n",
    "    total_fires=('Fire Name', 'count'),\n",
    "    total_acres=('Acres', 'sum'),\n",
    "    avg_duration=('Duration_Per_Month', 'mean'),  # Calculate average duration\n",
    "    total_deaths=('Total Deaths', 'sum')\n",
    ").reset_index()\n",
    "\n",
    "# Display the first few rows of the monthly_stats DataFrame\n",
    "print(monthly_stats.head(3))"
   ]
  },
  {
   "cell_type": "code",
   "execution_count": 13,
   "metadata": {},
   "outputs": [
    {
     "name": "stdout",
     "output_type": "stream",
     "text": [
      "Yearly stats saved to Outputs/yearly_stats.csv\n",
      "Monthly stats saved to Outputs/monthly_stats.csv\n"
     ]
    }
   ],
   "source": [
    "# Save the processed data to be used in HTML\n",
    "yearly_stats.to_csv('Outputs/yearly_stats.csv', index=False)\n",
    "monthly_stats.to_csv('Outputs/monthly_stats.csv', index=False)\n",
    "\n",
    "print(f\"Yearly stats saved to Outputs/yearly_stats.csv\") # Display the location and the file name where the data was saved\n",
    "print(f\"Monthly stats saved to Outputs/monthly_stats.csv\")  \n"
   ]
  }
 ],
 "metadata": {
  "kernelspec": {
   "display_name": "dev",
   "language": "python",
   "name": "python3"
  },
  "language_info": {
   "codemirror_mode": {
    "name": "ipython",
    "version": 3
   },
   "file_extension": ".py",
   "mimetype": "text/x-python",
   "name": "python",
   "nbconvert_exporter": "python",
   "pygments_lexer": "ipython3",
   "version": "3.11.5"
  }
 },
 "nbformat": 4,
 "nbformat_minor": 2
}
