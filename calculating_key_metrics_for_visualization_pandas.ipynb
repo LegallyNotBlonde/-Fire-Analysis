{
 "cells": [
  {
   "cell_type": "code",
   "execution_count": 1,
   "metadata": {},
   "outputs": [],
   "source": [
    "# Improt dependencies\n",
    "import pandas as pd\n",
    "import ast # process trees of the Python abstract syntax grammar"
   ]
  },
  {
   "cell_type": "code",
   "execution_count": 2,
   "metadata": {},
   "outputs": [],
   "source": [
    "# Load the cleaned data from csv\n",
    "file_path = 'Outputs/fires_2008_2022_cleaned.csv'\n",
    "data = pd.read_csv(file_path)"
   ]
  },
  {
   "cell_type": "code",
   "execution_count": 3,
   "metadata": {},
   "outputs": [],
   "source": [
    "# Remove commas and convert to numeric\n",
    "data['Acres'] = data['Acres'].str.replace(',', '').astype(float)"
   ]
  },
  {
   "cell_type": "code",
   "execution_count": 4,
   "metadata": {},
   "outputs": [],
   "source": [
    "## Convert 'Start' and 'Contained\" to datetime format to avoid errors\n",
    "data['Start'] = pd.to_datetime(data['Start'], errors='coerce')\n",
    "data['Contained'] = pd.to_datetime(data['Contained'], errors='coerce')"
   ]
  },
  {
   "cell_type": "code",
   "execution_count": 5,
   "metadata": {},
   "outputs": [
    {
     "name": "stdout",
     "output_type": "stream",
     "text": [
      "       Start  Contained  Year  Month\n",
      "0 2008-02-13 2008-02-13  2008      2\n",
      "1 2008-03-16 2008-03-20  2008      3\n",
      "2 2008-04-09 2008-04-19  2008      4\n"
     ]
    }
   ],
   "source": [
    "# Create a new column for the 'Year' and 'Month'\n",
    "data['Year'] = data['Start'].dt.year\n",
    "data['Month'] = data['Start'].dt.month\n",
    "# Print data 3 first lines to verify correctness\n",
    "print(data[['Start', 'Contained', 'Year', 'Month']].head(3))"
   ]
  },
  {
   "cell_type": "code",
   "execution_count": 6,
   "metadata": {},
   "outputs": [],
   "source": [
    "# Create a copy to prevent altering the original data in case of any errors\n",
    "Corrected_Duration_Long_Fires = data.copy()"
   ]
  },
  {
   "cell_type": "code",
   "execution_count": 7,
   "metadata": {},
   "outputs": [
    {
     "name": "stdout",
     "output_type": "stream",
     "text": [
      "          Start  Contained              Duration_Per_Month\n",
      "0    2008-02-13 2008-02-13                  {'2008-02': 1}\n",
      "1    2008-03-16 2008-03-20                  {'2008-03': 5}\n",
      "2    2008-04-09 2008-04-19                 {'2008-04': 11}\n",
      "3    2008-04-26 2008-05-02    {'2008-04': 5, '2008-05': 2}\n",
      "4    2008-04-29 2008-05-04    {'2008-04': 2, '2008-05': 4}\n",
      "...         ...        ...                             ...\n",
      "1093 2022-09-02 2022-10-30  {'2022-09': 29, '2022-10': 30}\n",
      "1094 2022-09-05 2022-09-22                 {'2022-09': 18}\n",
      "1095 2022-09-06 2022-10-22  {'2022-09': 25, '2022-10': 22}\n",
      "1096 2022-09-07 2022-09-14                  {'2022-09': 8}\n",
      "1097 2022-09-07 2022-09-28                 {'2022-09': 22}\n",
      "\n",
      "[1098 rows x 3 columns]\n"
     ]
    }
   ],
   "source": [
    "# Invoke a custom function:\n",
    "def calculate_duration(row):\n",
    "    # Initialize an empty dictionary to hold the duration for each month\n",
    "    duration_per_month = {}\n",
    "\n",
    "    start_date = row['Start'] # set start dat\n",
    "    end_date = row['Contained'] # set end date\n",
    "    \n",
    "    # Calculate duration for the first month\n",
    "    # Offsets here helps to end the count at the end of the month\n",
    "    end_of_start_month = start_date + pd.offsets.MonthEnd(0)\n",
    "    if end_date <= end_of_start_month:\n",
    "        # If the end date is in the same month\n",
    "        first_month_duration = (end_date - start_date).days + 1\n",
    "        duration_per_month[f'{start_date.year}-{start_date.month:02d}'] = first_month_duration\n",
    "    else:\n",
    "        first_month_duration = (end_of_start_month - start_date).days + 1\n",
    "        duration_per_month[f'{start_date.year}-{start_date.month:02d}'] = first_month_duration\n",
    "\n",
    "        # Handle months between 'Start' and 'Contained'\n",
    "        # Offsets here helps to start the count at the begining of the month\n",
    "        current_month = start_date + pd.offsets.MonthBegin(1)\n",
    "        while current_month <= end_date:\n",
    "            end_of_current_month = current_month + pd.offsets.MonthEnd(0)\n",
    "            if end_date <= end_of_current_month:\n",
    "                duration_in_current_month = (end_date - current_month).days + 1\n",
    "                duration_per_month[f'{current_month.year}-{current_month.month:02d}'] = duration_in_current_month\n",
    "                break\n",
    "            else:\n",
    "                duration_in_current_month = (end_of_current_month - current_month).days + 1\n",
    "                duration_per_month[f'{current_month.year}-{current_month.month:02d}'] = duration_in_current_month\n",
    "                current_month = current_month + pd.offsets.MonthBegin(1)\n",
    "\n",
    "    return duration_per_month # used return function for correct count in the loop\n",
    "\n",
    "# Apply the function to calculate the duration per month for each row\n",
    "Corrected_Duration_Long_Fires['Duration_Per_Month'] = data.apply(calculate_duration, axis=1)\n",
    "\n",
    "# Display the result to check\n",
    "print(Corrected_Duration_Long_Fires[['Start', 'Contained', 'Duration_Per_Month']])\n",
    "Corrected_Duration_Long_Fires.to_csv('Outputs/Corrected_Duration_Long_Fires.csv', index=False)"
   ]
  },
  {
   "cell_type": "code",
   "execution_count": 8,
   "metadata": {},
   "outputs": [
    {
     "data": {
      "text/plain": [
       "Index(['County', 'Fire Name', 'Start', 'Contained', 'Acres', 'Deaths_FF',\n",
       "       'Deaths_Civil', 'Duration', 'Strux_Destr', 'Strux_Dmgd', 'Year',\n",
       "       'Month', 'Duration_Per_Month'],\n",
       "      dtype='object')"
      ]
     },
     "execution_count": 8,
     "metadata": {},
     "output_type": "execute_result"
    }
   ],
   "source": [
    "# Display columns in our data to use correct names of indexes\n",
    "Corrected_Duration_Long_Fires.columns"
   ]
  },
  {
   "cell_type": "code",
   "execution_count": 9,
   "metadata": {},
   "outputs": [
    {
     "name": "stdout",
     "output_type": "stream",
     "text": [
      "        County    Fire Name      Start  Contained   Acres  Deaths_FF  \\\n",
      "0        MODOC       BARNES 2022-09-07 2022-09-28  5843.0          0   \n",
      "1  LOS ANGELES  SANTA ANITA 2008-04-26 2008-05-02   584.0          0   \n",
      "2  LOS ANGELES  SANTA ANITA 2008-04-26 2008-05-02   584.0          0   \n",
      "\n",
      "   Deaths_Civil  Duration  Strux_Destr  Strux_Dmgd  Year  Month  \\\n",
      "0             0        22            2           0  2022      9   \n",
      "1             0         5            0           0  2008      4   \n",
      "2             0         2            0           0  2008      5   \n",
      "\n",
      "  Duration_Per_Month  \n",
      "0    {'2022-09': 22}  \n",
      "1     {'2008-04': 5}  \n",
      "2     {'2008-05': 2}  \n",
      "object\n"
     ]
    }
   ],
   "source": [
    "# Function to split rows where 'Duration_Per_Month' has multiple entries\n",
    "# That is needed for fires that started in one month and contunues in the folowing month(s)\n",
    "def split_rows(row):\n",
    "    durations = row['Duration_Per_Month']\n",
    "    if len(durations) > 1:\n",
    "        rows = []\n",
    "        for month, duration in durations.items():\n",
    "            new_row = row.copy()\n",
    "            new_row['Month'] = int(month.split('-')[1])  # Set the correct month\n",
    "            new_row['Duration'] = duration  # Set the correct duration\n",
    "            new_row['Year'] = int(month.split('-')[0])  # Set the correct year\n",
    "            new_row['Duration_Per_Month'] = {month: duration}  # Keep only the current month in the dictionary\n",
    "            rows.append(new_row)\n",
    "        return rows\n",
    "    else:\n",
    "        # Only return the row itself if it doesn't need splitting\n",
    "        return [row]\n",
    "\n",
    "# Apply the split_rows function to each row and concatenate the lists into a new DataFrame\n",
    "expanded_rows = Corrected_Duration_Long_Fires.apply(split_rows, axis=1).tolist()\n",
    "expanded_rows = [item for sublist in expanded_rows for item in sublist]  # Flatten the list of lists\n",
    "\n",
    "# Convert the list of rows into a DataFrame\n",
    "updated_corrected_duration = pd.DataFrame(expanded_rows)\n",
    "\n",
    "# Convert the 'Duration_Per_Month' dictionary to a string to make it hashable\n",
    "updated_corrected_duration['Duration_Per_Month'] = updated_corrected_duration['Duration_Per_Month'].apply(lambda x: str(x))\n",
    "\n",
    "# Remove any duplicate rows to prevent data alteration\n",
    "updated_corrected_duration = updated_corrected_duration.drop_duplicates()\n",
    "\n",
    "# Reset the index to make sure the DataFrame is well-formed\n",
    "updated_corrected_duration = updated_corrected_duration.reset_index(drop=True)\n",
    "\n",
    "# Display the resulting DataFrame\n",
    "print(updated_corrected_duration.head(3))\n",
    "\n",
    "# Save the result to a CSV file\n",
    "updated_corrected_duration.to_csv('Outputs/updated_corrected_duration.csv', index=False)\n",
    "print(updated_corrected_duration['Duration_Per_Month'].dtype)"
   ]
  },
  {
   "cell_type": "code",
   "execution_count": 10,
   "metadata": {},
   "outputs": [
    {
     "name": "stdout",
     "output_type": "stream",
     "text": [
      "       Fire Name      Start  Contained  Month Duration_Per_Month  Duration  \\\n",
      "0         BARNES 2022-09-07 2022-09-28      9    {'2022-09': 22}        22   \n",
      "1    SANTA ANITA 2008-04-26 2008-05-02      4     {'2008-04': 5}         5   \n",
      "2    SANTA ANITA 2008-04-26 2008-05-02      5     {'2008-05': 2}         2   \n",
      "3         APACHE 2008-04-29 2008-05-04      4     {'2008-04': 2}         2   \n",
      "4         APACHE 2008-04-29 2008-05-04      5     {'2008-05': 4}         4   \n",
      "..           ...        ...        ...    ...                ...       ...   \n",
      "946        ROUTE 2022-08-31 2022-09-06      9     {'2022-09': 6}         6   \n",
      "947     MOUNTAIN 2022-09-02 2022-10-30      9    {'2022-09': 29}        29   \n",
      "948     MOUNTAIN 2022-09-02 2022-10-30     10    {'2022-10': 30}        30   \n",
      "949     MOSQUITO 2022-09-06 2022-10-22      9    {'2022-09': 25}        25   \n",
      "950     MOSQUITO 2022-09-06 2022-10-22     10    {'2022-10': 22}        22   \n",
      "\n",
      "     Deaths_FF  Deaths_Civil  \n",
      "0            0             0  \n",
      "1            0             0  \n",
      "2            0             0  \n",
      "3            0             0  \n",
      "4            0             0  \n",
      "..         ...           ...  \n",
      "946          0             0  \n",
      "947          0             0  \n",
      "948          0             0  \n",
      "949          0             0  \n",
      "950          0             0  \n",
      "\n",
      "[951 rows x 8 columns]\n"
     ]
    }
   ],
   "source": [
    "# Create a copy of the DataFrame to prevent modifying the original data in case of any errors\n",
    "df = updated_corrected_duration.copy()\n",
    "\n",
    "# Convert strings of dictionaries to actual dictionaries\n",
    "# As a first step to extract data to get the duration of each fire in each month\n",
    "def convert_to_dict(duration_str): # defining function to convert\n",
    "    try:\n",
    "        return ast.literal_eval(duration_str) # convert to strings\n",
    "    except (ValueError, SyntaxError): # set how to handle errors\n",
    "        return {} # if conversion fails, then return empty value\n",
    "    \n",
    "# Apply this function to each element\n",
    "df['Duration_Per_Month'] = df['Duration_Per_Month'].apply(convert_to_dict)\n",
    "\n",
    "# Function to extract the numeric value from the dictionary in Duration_Per_Month\n",
    "def extract_duration(duration_dict):\n",
    "    return list(duration_dict.values())[0] if duration_dict else 0 #if distionary is empty ruturn '0' value\n",
    "\n",
    "# Apply the extraction function to each dictionary\n",
    "df['Duration'] = df['Duration_Per_Month'].apply(extract_duration)\n",
    "\n",
    "# Display the updated DataFrame\n",
    "print(df[['Fire Name', 'Start', 'Contained', 'Month', 'Duration_Per_Month', 'Duration', 'Deaths_FF', 'Deaths_Civil']])"
   ]
  },
  {
   "cell_type": "code",
   "execution_count": 11,
   "metadata": {},
   "outputs": [
    {
     "name": "stdout",
     "output_type": "stream",
     "text": [
      "     Duration  Total Deaths\n",
      "0          22             0\n",
      "1           5             0\n",
      "2           2             0\n",
      "3           2             0\n",
      "4           4             0\n",
      "..        ...           ...\n",
      "946         6             0\n",
      "947        29             0\n",
      "948        30             0\n",
      "949        25             0\n",
      "950        22             0\n",
      "\n",
      "[951 rows x 2 columns]\n"
     ]
    }
   ],
   "source": [
    "# Ensure 'Deaths_FF' and 'Deaths_Civil' are numeric\n",
    "df['Deaths_FF'] = pd.to_numeric(df['Deaths_FF'], errors='coerce')\n",
    "df['Deaths_Civil'] = pd.to_numeric(df['Deaths_Civil'], errors='coerce')\n",
    "\n",
    "# Convert 'Duration' to integer\n",
    "df['Duration'] = df['Duration'].astype(int)\n",
    "\n",
    "# Calculate total deaths\n",
    "df['Total Deaths'] = df['Deaths_FF'] + df['Deaths_Civil']\n",
    "\n",
    "# Display the result\n",
    "print(df[['Duration', 'Total Deaths']])"
   ]
  },
  {
   "cell_type": "code",
   "execution_count": 12,
   "metadata": {},
   "outputs": [
    {
     "name": "stdout",
     "output_type": "stream",
     "text": [
      "   Year  total_fires  total_acres  average_yearly_duration  total_deaths\n",
      "0  2008          150    3135375.0                       14            44\n",
      "1  2009           44     607371.0                       11             6\n",
      "2  2010           29     134862.0                       15             0\n"
     ]
    }
   ],
   "source": [
    "# Calculate the statistics for each year\n",
    "yearly_stats_df = df.groupby('Year').agg(\n",
    "    total_fires=('Fire Name', 'count'),\n",
    "    total_acres=('Acres', 'sum'),\n",
    "    average_yearly_duration=('Duration', 'mean'),\n",
    "    total_deaths=('Total Deaths', 'sum')\n",
    ").reset_index()\n",
    "# Convert 'avg_yearly_duration' to integers\n",
    "yearly_stats_df ['average_yearly_duration'] = yearly_stats_df['average_yearly_duration'].astype(int)\n",
    "print(yearly_stats_df.head(3))"
   ]
  },
  {
   "cell_type": "code",
   "execution_count": 13,
   "metadata": {},
   "outputs": [
    {
     "name": "stdout",
     "output_type": "stream",
     "text": [
      "Index(['County', 'Fire Name', 'Start', 'Contained', 'Acres', 'Deaths_FF',\n",
      "       'Deaths_Civil', 'Duration', 'Strux_Destr', 'Strux_Dmgd', 'Year',\n",
      "       'Month', 'Duration_Per_Month', 'Total Deaths'],\n",
      "      dtype='object')\n"
     ]
    }
   ],
   "source": [
    "# Display columns in my data\n",
    "print(df.columns)"
   ]
  },
  {
   "cell_type": "code",
   "execution_count": 14,
   "metadata": {},
   "outputs": [
    {
     "name": "stdout",
     "output_type": "stream",
     "text": [
      "   Year  Month  total_fires  total_acres  avg_monthly_duration  total_deaths\n",
      "0  2008      4            2       1353.0                     3             0\n",
      "1  2008      5            4      20923.0                     5             0\n",
      "2  2008      6           57    1007829.0                    10            11\n"
     ]
    }
   ],
   "source": [
    "# Calculate statistics by Month of each Year\n",
    "monthly_stats = df.groupby(['Year', 'Month']).agg(\n",
    "    total_fires=('Fire Name', 'count'),\n",
    "    total_acres=('Acres', 'sum'),\n",
    "    avg_monthly_duration=('Duration', 'mean'),  # Calculate average duration\n",
    "    total_deaths=('Total Deaths', 'sum')\n",
    ").reset_index()\n",
    "\n",
    "# Convert 'avg_monthly_duration' to integers\n",
    "monthly_stats['avg_monthly_duration'] = monthly_stats['avg_monthly_duration'].astype(int)\n",
    "\n",
    "# Display the first few rows of the monthly_stats DataFrame\n",
    "print(monthly_stats.head(3))"
   ]
  },
  {
   "cell_type": "code",
   "execution_count": 15,
   "metadata": {},
   "outputs": [
    {
     "name": "stdout",
     "output_type": "stream",
     "text": [
      "    Year  total_fires  total_acres  average_yearly_duration  total_deaths  \\\n",
      "12  2020          125   12994819.0                       20            99   \n",
      "13  2021           98    9696610.0                       16             0   \n",
      "14  2022           22     269089.0                       10             0   \n",
      "\n",
      "      Tot_Damage  \n",
      "12  4.725059e+09  \n",
      "13  5.194675e+08  \n",
      "14           NaN  \n"
     ]
    }
   ],
   "source": [
    "# Merge yearly statistical data with information about financial losses: \n",
    "\n",
    "# Read the Excel file wiht monetary losses information from \"Outputs\" folder\n",
    "file_path = 'Outputs\\merged_summary_dollar_data.csv'\n",
    "df = pd.read_csv(file_path)\n",
    "# Calculate totals for each year\n",
    "totals_by_year = df.groupby('Year')['Tot_Damage'].sum().reset_index()\n",
    "# Merge both datas on year\n",
    "yearly_stats = pd.merge(yearly_stats_df, totals_by_year, on='Year', how='left')\n",
    "# Display the merged DataFrame to verify results\n",
    "print(yearly_stats.tail(3))"
   ]
  },
  {
   "cell_type": "code",
   "execution_count": 16,
   "metadata": {},
   "outputs": [],
   "source": [
    "# Replace NaN values with 0 in the merged DataFrame\n",
    "yearly_stats = yearly_stats.fillna(0)"
   ]
  },
  {
   "cell_type": "code",
   "execution_count": 17,
   "metadata": {},
   "outputs": [
    {
     "name": "stdout",
     "output_type": "stream",
     "text": [
      "Yearly stats saved to Outputs/yearly_stats.csv\n",
      "Monthly stats saved to Outputs/monthly_stats.csv\n"
     ]
    }
   ],
   "source": [
    "# Save the processed data to be used in HTML\n",
    "yearly_stats.to_csv('Outputs/yearly_stats.csv', index=False)\n",
    "monthly_stats.to_csv('Outputs/monthly_stats.csv', index=False)\n",
    "\n",
    "#Print resullts\n",
    "print(f\"Yearly stats saved to Outputs/yearly_stats.csv\") # Display the location and the file name where the data was saved\n",
    "print(f\"Monthly stats saved to Outputs/monthly_stats.csv\")  \n"
   ]
  }
 ],
 "metadata": {
  "kernelspec": {
   "display_name": "dev",
   "language": "python",
   "name": "python3"
  },
  "language_info": {
   "codemirror_mode": {
    "name": "ipython",
    "version": 3
   },
   "file_extension": ".py",
   "mimetype": "text/x-python",
   "name": "python",
   "nbconvert_exporter": "python",
   "pygments_lexer": "ipython3",
   "version": "3.11.5"
  }
 },
 "nbformat": 4,
 "nbformat_minor": 2
}
